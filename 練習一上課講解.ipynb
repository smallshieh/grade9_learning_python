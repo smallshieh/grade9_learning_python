{
  "metadata": {
    "language_info": {
      "codemirror_mode": {
        "name": "python",
        "version": 3
      },
      "file_extension": ".py",
      "mimetype": "text/x-python",
      "name": "python",
      "nbconvert_exporter": "python",
      "pygments_lexer": "ipython3",
      "version": "3.8"
    },
    "kernelspec": {
      "name": "python",
      "display_name": "Pyolite",
      "language": "python"
    }
  },
  "nbformat_minor": 4,
  "nbformat": 4,
  "cells": [
    {
      "cell_type": "markdown",
      "source": "### 練習1：印出 Hello world",
      "metadata": {}
    },
    {
      "cell_type": "markdown",
      "source": "* 函數：print()\n* 顯示結果：\n#### Hello, world!",
      "metadata": {}
    },
    {
      "cell_type": "code",
      "source": "# 寫下你的程式碼 01\n我的第一句話 = \"Hello, world!\"\nprint(我的第一句話, '6/20')",
      "metadata": {
        "trusted": true
      },
      "execution_count": 44,
      "outputs": [
        {
          "name": "stdout",
          "text": "Hello, world! 6/20\n",
          "output_type": "stream"
        }
      ]
    },
    {
      "cell_type": "code",
      "source": "\"Hello, world!\"",
      "metadata": {
        "trusted": true
      },
      "execution_count": 3,
      "outputs": [
        {
          "execution_count": 3,
          "output_type": "execute_result",
          "data": {
            "text/plain": "'Hello, world!'"
          },
          "metadata": {}
        }
      ]
    },
    {
      "cell_type": "markdown",
      "source": "### 練習2：兩個數相加",
      "metadata": {}
    },
    {
      "cell_type": "markdown",
      "source": "* 使用函數：print()\n* 設定兩變數：\n  * num1 = 1.5\n  * num2 = 6.3\n* 輸出，兩數相加的結果：\n#### 數字 1.5 和 6.3 相加等於 7.8",
      "metadata": {}
    },
    {
      "cell_type": "code",
      "source": "# 寫下你的程式碼 02-1\nnum1 = 1.5\nnum2 = 6.3\noutput = '數字 {} 和 {} 相加等於 {}'\nprint('數字', num1, '和', num2,'相加等於', num1+num2)\nprint(output.format(num1, num2, num1+num2))",
      "metadata": {
        "trusted": true
      },
      "execution_count": 10,
      "outputs": [
        {
          "name": "stdout",
          "text": "數字 1.5 和 6.3 相加等於 7.8\n數字 1.5 和 6.3 相加等於 7.8\n",
          "output_type": "stream"
        }
      ]
    },
    {
      "cell_type": "code",
      "source": "# 將一個字串的奇數位改成小寫，偶數位改成大寫\ns = \"abcdefg\"\n#    0123456\ndef myfun(s):\n    result = \"\"\n    for i in range(len(s)):\n        if i % 2 == 0: result += s[i].upper()\n        else: result += s[i].lower()\n    return result\nmyfun(s)",
      "metadata": {
        "trusted": true
      },
      "execution_count": 24,
      "outputs": [
        {
          "execution_count": 24,
          "output_type": "execute_result",
          "data": {
            "text/plain": "'AbCdEfG'"
          },
          "metadata": {}
        }
      ]
    },
    {
      "cell_type": "code",
      "source": "# 將一個字串的奇數位改成小寫，偶數位改成大寫\ns = \"a b c d e f g\".split()\n#    0123456\ndef myfun(s):\n    result = []\n    for i in range(len(s)):\n        if i % 2 == 0: result += s[i].upper()\n        else: result += s[i].lower()\n    return result\nmyfun(s)",
      "metadata": {
        "trusted": true
      },
      "execution_count": 12,
      "outputs": [
        {
          "execution_count": 12,
          "output_type": "execute_result",
          "data": {
            "text/plain": "['A', 'b', 'C', 'd', 'E', 'f', 'G']"
          },
          "metadata": {}
        }
      ]
    },
    {
      "cell_type": "code",
      "source": "s = \"a b c d e f g\".split()\ns",
      "metadata": {
        "trusted": true
      },
      "execution_count": 14,
      "outputs": [
        {
          "execution_count": 14,
          "output_type": "execute_result",
          "data": {
            "text/plain": "['a', 'b', 'c', 'd', 'e', 'f', 'g']"
          },
          "metadata": {}
        }
      ]
    },
    {
      "cell_type": "markdown",
      "source": "### 練習2：兩個數相加",
      "metadata": {}
    },
    {
      "cell_type": "markdown",
      "source": "* 使用函數 int()、input()\n* 輸入：任意兩數\n* 輸出，兩數相加的結果\n",
      "metadata": {
        "tags": []
      }
    },
    {
      "cell_type": "code",
      "source": "# 寫下你的程式碼 02-2\nprint(\"輸入第1個數字\")\nnum1 = input()\n",
      "metadata": {
        "trusted": true
      },
      "execution_count": 18,
      "outputs": [
        {
          "name": "stdout",
          "text": "輸入第1個數字\n",
          "output_type": "stream"
        },
        {
          "name": "stderr",
          "text": "Future exception was never retrieved\nfuture: <Future finished exception=JsException(TypeError: Cannot read properties of null (reading 'sendInputRequest'))>\n",
          "output_type": "stream"
        }
      ]
    },
    {
      "cell_type": "code",
      "source": "num1",
      "metadata": {
        "trusted": true
      },
      "execution_count": 19,
      "outputs": [
        {
          "execution_count": 19,
          "output_type": "execute_result",
          "data": {
            "text/plain": "<Future finished exception=JsException(TypeError: Cannot read properties of null (reading 'sendInputRequest'))>"
          },
          "metadata": {}
        }
      ]
    },
    {
      "cell_type": "markdown",
      "source": "### 練習3：算平方根\n",
      "metadata": {}
    },
    {
      "cell_type": "markdown",
      "source": "* 使用函數：input()、print()、[format()](https://www.runoob.com/python/att-string-format.html)\n* 計算正平方根\n* 輸入任意正數\n* 輸出結果：\n#### 8.000 的正平方根 2.828",
      "metadata": {}
    },
    {
      "cell_type": "code",
      "source": "# 寫下你的程式碼 03\nnum = 8\noutput = \"{:.3f} 的正平方根 {:.3f}\"\nprint(output.format(num, num**.5))\n",
      "metadata": {
        "trusted": true
      },
      "execution_count": 27,
      "outputs": [
        {
          "name": "stdout",
          "text": "8.000 的正平方根 2.828\n",
          "output_type": "stream"
        }
      ]
    },
    {
      "cell_type": "code",
      "source": "8 ** 0.5",
      "metadata": {
        "trusted": true
      },
      "execution_count": 17,
      "outputs": [
        {
          "execution_count": 17,
          "output_type": "execute_result",
          "data": {
            "text/plain": "2.8284271247461903"
          },
          "metadata": {}
        }
      ]
    },
    {
      "cell_type": "markdown",
      "source": "### 練習4：計算三角形面積",
      "metadata": {}
    },
    {
      "cell_type": "markdown",
      "source": "* 數學公式：海龍公式\n  * $s = \\frac{a+b+c}{2}$\n  * $ \\Delta = \\sqrt{s (s-a)(s-b)(s-c)}$\n* 輸入三角形邊長\n* 輸出：三角形面積\n",
      "metadata": {}
    },
    {
      "cell_type": "code",
      "source": "# 寫下你的程式碼 04\na = 5\nb = 6\nc = 7\ns = (a+b+c)/2\narea = (s*(s-a)*(s-b)*(s-c))**.5\nprint(\"三角形面積 = {:.2f}\".format(area))",
      "metadata": {
        "trusted": true
      },
      "execution_count": 28,
      "outputs": [
        {
          "name": "stdout",
          "text": "三角形面積 = 14.70\n",
          "output_type": "stream"
        }
      ]
    },
    {
      "cell_type": "code",
      "source": "import math\nmath.sqrt((s*(s-a)*(s-b)*(s-c)))",
      "metadata": {
        "trusted": true
      },
      "execution_count": 40,
      "outputs": [
        {
          "execution_count": 40,
          "output_type": "execute_result",
          "data": {
            "text/plain": "14.696938456699069"
          },
          "metadata": {}
        }
      ]
    },
    {
      "cell_type": "markdown",
      "source": "### 練習5：二次方程式的解",
      "metadata": {}
    },
    {
      "cell_type": "markdown",
      "source": "* 使用函數：input()、print()、math.sqrt()\n* 關鍵字：*import*\n* 輸入係數 *a、b、c*\n* 輸出：方程式的解\n  * $x ={-b \\pm \\sqrt{b^2-4ac}\\over 2a} $",
      "metadata": {}
    },
    {
      "cell_type": "code",
      "source": "# 寫下你的程式碼 05\nimport math\na = 1\nb = 4\nc = 3\ndelta = b**2 - 4*a*c\nx1 = (-1*b + sqrt(delta))/(2*a)\nx2 = (-1*b - sqrt(delta))/(2*a)\nprint(\"方程式的解:{}, {}\".format(x1, x2))",
      "metadata": {
        "trusted": true
      },
      "execution_count": 42,
      "outputs": [
        {
          "name": "stdout",
          "text": "方程式的解:-1.0, -3.0\n",
          "output_type": "stream"
        }
      ]
    },
    {
      "cell_type": "markdown",
      "source": "### 練習6：交換兩個變數",
      "metadata": {}
    },
    {
      "cell_type": "markdown",
      "source": "* 你的程式應包含\n  * x = input('輸入 x值 ')\n  * y = input('輸入 y值 ')\n  * print('交換後的 x 值： {}'.format(x))\n  * print('交換後的 y 值： {}'.format(y))\n* 輸出：交換後的變數值",
      "metadata": {}
    },
    {
      "cell_type": "code",
      "source": "# 寫下你的程式碼 06\nx = 10\ny = 20\nprint('x, y 的原始值:', x, y)\n# How to swap x and y?\ntemp = y\ny = x\nx = temp\nprint('交換後的 x 值： {}'.format(x))\nprint('交換後的 y 值： {}'.format(y))",
      "metadata": {
        "trusted": true
      },
      "execution_count": 49,
      "outputs": [
        {
          "name": "stdout",
          "text": "x, y 的原始值: 10 20\n交換後的 x 值： 20\n交換後的 y 值： 10\n",
          "output_type": "stream"
        }
      ]
    },
    {
      "cell_type": "markdown",
      "source": "### 練習7：產生隨機亂數",
      "metadata": {}
    },
    {
      "cell_type": "markdown",
      "source": "* 函數：[randint()](https://www.runoob.com/python3/ref-random-randint.html)、[randrange()](https://www.runoob.com/python3/python3-func-number-randrange.html)\n* randint() 返回一個數字 N ，N 為 a 到 b 之間的數字（a <= N <= b），包含 a 和 b。它是Python 的異類。\n* 輸出：1~10 的隨機亂數",
      "metadata": {}
    },
    {
      "cell_type": "code",
      "source": "# 寫下你的程式碼 07\nimport random\nnum = random.randrange(1, 10+1)\nprint(num)",
      "metadata": {
        "trusted": true
      },
      "execution_count": 27,
      "outputs": [
        {
          "name": "stdout",
          "text": "10\n",
          "output_type": "stream"
        }
      ]
    },
    {
      "cell_type": "markdown",
      "source": "### 練習8：公里轉英哩",
      "metadata": {}
    },
    {
      "cell_type": "markdown",
      "source": "* 英哩數 = 公里數 X 0.621371\n* 輸入：\n#### 公里數: 3.5\n* 輸出：數字**小數兩位**\n#### 3.50 公里等於 2.17 英哩\n",
      "metadata": {}
    },
    {
      "cell_type": "code",
      "source": "# 寫下你的程式碼 08",
      "metadata": {},
      "execution_count": null,
      "outputs": []
    },
    {
      "cell_type": "markdown",
      "source": "### 練習9：將攝氏溫度轉換為華氏溫度",
      "metadata": {}
    },
    {
      "cell_type": "markdown",
      "source": "* 輸入：攝氏溫度\n* 輸出：華氏溫度\n* $(^{\\circ}F)= \\frac{9}{5}(^{\\circ}C)+32$",
      "metadata": {}
    },
    {
      "cell_type": "code",
      "source": "# 寫下你的程式碼 09",
      "metadata": {
        "trusted": true
      },
      "execution_count": 1,
      "outputs": []
    },
    {
      "cell_type": "markdown",
      "source": "### 練習10：檢查數字是正數，負數還是零",
      "metadata": {}
    },
    {
      "cell_type": "markdown",
      "source": "* 輸入：一個整數\n* 輸出：\n  1. 如果是正數：**正數**\n  2. 如果是 0：**零**\n  3. 如果是負數：**負數**\n",
      "metadata": {}
    },
    {
      "cell_type": "code",
      "source": "# 寫下你的程式碼 10\nimport random\n# -2 <= num < 3\nnum = random.randrange(-2, 3)\nif num > 0: print(num, '正數')\nelif num == 0: print(num, '零')\nelse: print(num, '負數')",
      "metadata": {
        "trusted": true
      },
      "execution_count": 45,
      "outputs": [
        {
          "name": "stdout",
          "text": "0 零\n",
          "output_type": "stream"
        }
      ]
    },
    {
      "cell_type": "code",
      "source": "",
      "metadata": {},
      "execution_count": null,
      "outputs": []
    }
  ]
}