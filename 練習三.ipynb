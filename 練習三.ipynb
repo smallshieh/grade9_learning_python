{
  "metadata": {
    "language_info": {
      "codemirror_mode": {
        "name": "python",
        "version": 3
      },
      "file_extension": ".py",
      "mimetype": "text/x-python",
      "name": "python",
      "nbconvert_exporter": "python",
      "pygments_lexer": "ipython3",
      "version": "3.8"
    },
    "kernelspec": {
      "name": "python",
      "display_name": "Pyolite",
      "language": "python"
    }
  },
  "nbformat_minor": 4,
  "nbformat": 4,
  "cells": [
    {
      "cell_type": "markdown",
      "source": "### 練習21：算自然數之和",
      "metadata": {}
    },
    {
      "cell_type": "markdown",
      "source": "#### 輸入\n> 正整數 $n$\n\n* 以**while**迴圈完成\n#### 輸出\n$ 1+2+3+\\dots+n $ 的值",
      "metadata": {}
    },
    {
      "cell_type": "markdown",
      "source": "### 練習22：用函數顯示2的次方",
      "metadata": {}
    },
    {
      "cell_type": "markdown",
      "source": "* Python 語言特色\n* 以匿名函數完成\n* 關鍵字：[lambda](https://www.runoob.com/python/python-functions.html)\n#### 輸出\n> $2^n$ 前 10 項的值",
      "metadata": {}
    },
    {
      "cell_type": "markdown",
      "source": "### 練習23：計算可被另一個數字整除的數字",
      "metadata": {}
    },
    {
      "cell_type": "markdown",
      "source": "* Python 語言特色\n#### 輸入\n> 串列 [12, 65, 54, 39, 102, 339, 221]\n#### 輸出\n> 被 13 整除的數為：[65, 39, 221]\n ",
      "metadata": {}
    },
    {
      "cell_type": "markdown",
      "source": "### 練習24：十進制轉換為二進制，八進制和十六進制",
      "metadata": {}
    },
    {
      "cell_type": "markdown",
      "source": "* Python 內建函數\n* 關鍵字：[bin()](https://www.runoob.com/python/python-func-bin.html), [oct()](https://www.runoob.com/python/python-func-oct.html), [hex()](https://www.runoob.com/python/python-func-hex.html)\n \n#### 輸入\n> 321\n  \n#### 輸出\n\n> 二進位：0b101000001\n\n> 八進位：0o501\n\n> 十六進位：0x141\n",
      "metadata": {}
    },
    {
      "cell_type": "markdown",
      "source": "### 練習25：找字元的 ASCII 值",
      "metadata": {}
    },
    {
      "cell_type": "markdown",
      "source": "* 關鍵字：[chr()](https://www.runoob.com/python/python-func-chr.html), [ord()](https://www.runoob.com/python/python-func-ord.html)\n\n#### 輸入\n> 任一字元\n\n#### 輸出\n>ASCII 值",
      "metadata": {}
    },
    {
      "cell_type": "markdown",
      "source": "### 練習26：計算 HCF 或 GCD",
      "metadata": {}
    },
    {
      "cell_type": "markdown",
      "source": "* 最大公因數(GCD)\n* 運用**輾轉相除法**完成",
      "metadata": {}
    },
    {
      "cell_type": "markdown",
      "source": "#### 輸入\n\n> 兩正整數 $a$, $b$\n\n#### 輸出\n\n> $(a, b)$",
      "metadata": {}
    },
    {
      "cell_type": "markdown",
      "source": "### 練習27：計算 LCM",
      "metadata": {}
    },
    {
      "cell_type": "markdown",
      "source": "* 最小公倍數(LCM)",
      "metadata": {}
    },
    {
      "cell_type": "markdown",
      "source": "#### 輸入\n\n> 兩正整數 $a$, $b$\n\n#### 輸出\n\n> $[a, b]$",
      "metadata": {}
    },
    {
      "cell_type": "markdown",
      "source": "### 練習28：找數字的因數",
      "metadata": {}
    },
    {
      "cell_type": "markdown",
      "source": "#### 輸入\n\n> 正整數 $n$\n\n#### 輸出\n\n> $n$ 的所有正因數",
      "metadata": {}
    },
    {
      "cell_type": "markdown",
      "source": "### 練習29：製作簡單計算器",
      "metadata": {}
    },
    {
      "cell_type": "markdown",
      "source": "* 計算器支援運算\n  1. 四則運算\n  2. 指數\n  3. 小括號",
      "metadata": {}
    },
    {
      "cell_type": "markdown",
      "source": "#### 輸入\n\n> 數學式\n\n#### 輸出\n\n> 運算數值",
      "metadata": {}
    },
    {
      "cell_type": "markdown",
      "source": "### 練習30：發牌程式",
      "metadata": {}
    },
    {
      "cell_type": "markdown",
      "source": "#### 輸出\n\n> 隨機抽得 5 張撲克牌的結果",
      "metadata": {}
    }
  ]
}