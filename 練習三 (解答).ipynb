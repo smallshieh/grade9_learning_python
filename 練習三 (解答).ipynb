{
  "metadata": {
    "language_info": {
      "codemirror_mode": {
        "name": "python",
        "version": 3
      },
      "file_extension": ".py",
      "mimetype": "text/x-python",
      "name": "python",
      "nbconvert_exporter": "python",
      "pygments_lexer": "ipython3",
      "version": "3.8"
    },
    "kernelspec": {
      "name": "python",
      "display_name": "Pyolite",
      "language": "python"
    }
  },
  "nbformat_minor": 4,
  "nbformat": 4,
  "cells": [
    {
      "cell_type": "markdown",
      "source": "### 練習21：算自然數之和",
      "metadata": {}
    },
    {
      "cell_type": "markdown",
      "source": "#### 輸入\n> 正整數 $n$\n\n* 以**while**迴圈完成\n#### 輸出\n$ 1+2+3+\\dots+n $ 的值",
      "metadata": {}
    },
    {
      "cell_type": "code",
      "source": "import random\nnterm = random.randrange(4,101)\n\noutput = '1+2+3+...+{} = {}'\nsum = 0\ni = 1\nwhile i <= nterm:\n    sum += i\n    i += 1\n\nprint(output.format(nterm, sum))",
      "metadata": {
        "trusted": true
      },
      "execution_count": 10,
      "outputs": [
        {
          "name": "stdout",
          "text": "1+2+3+...+27 = 378\n",
          "output_type": "stream"
        }
      ]
    },
    {
      "cell_type": "markdown",
      "source": "### 練習22：用函數顯示2的次方",
      "metadata": {}
    },
    {
      "cell_type": "markdown",
      "source": "* Python 語言特色\n* 以匿名函數完成\n* 關鍵字：[lambda](https://www.runoob.com/python/python-functions.html), [map()](https://www.runoob.com/python/python-func-map.html)\n* map() 傳回一個迭代器(iterable)\n#### 輸出\n> $2^n$ 前 10 項的值",
      "metadata": {}
    },
    {
      "cell_type": "code",
      "source": "ten_terms = [i for i in range(1, 11)]\nlst = list(map(lambda x: x**2, ten_terms))\nlst",
      "metadata": {
        "trusted": true
      },
      "execution_count": 64,
      "outputs": [
        {
          "execution_count": 64,
          "output_type": "execute_result",
          "data": {
            "text/plain": "[1, 4, 9, 16, 25, 36, 49, 64, 81, 100]"
          },
          "metadata": {}
        }
      ]
    },
    {
      "cell_type": "markdown",
      "source": "### 練習23：計算可被另一個數字整除的數字",
      "metadata": {}
    },
    {
      "cell_type": "markdown",
      "source": "* Python 語言特色\n* 關鍵字：[filter()](https://www.runoob.com/python/python-func-filter.html)\n\n#### 輸入\n> 串列 [12, 65, 54, 39, 102, 339, 221]\n#### 輸出\n> 被 13 整除的數為：[65, 39, 221]\n ",
      "metadata": {}
    },
    {
      "cell_type": "code",
      "source": "list(filter(lambda x: x % 13 == 0, [12, 65, 54, 39, 102, 339, 221]))",
      "metadata": {
        "trusted": true
      },
      "execution_count": 67,
      "outputs": [
        {
          "execution_count": 67,
          "output_type": "execute_result",
          "data": {
            "text/plain": "[65, 39, 221]"
          },
          "metadata": {}
        }
      ]
    },
    {
      "cell_type": "code",
      "source": "list(map(lambda x: x % 13 == 0, [12, 65, 54, 39, 102, 339, 221]))",
      "metadata": {
        "trusted": true
      },
      "execution_count": 68,
      "outputs": [
        {
          "execution_count": 68,
          "output_type": "execute_result",
          "data": {
            "text/plain": "[False, True, False, True, False, False, True]"
          },
          "metadata": {}
        }
      ]
    },
    {
      "cell_type": "markdown",
      "source": "### 練習24：十進制轉換為二進制，八進制和十六進制",
      "metadata": {}
    },
    {
      "cell_type": "markdown",
      "source": "* Python 內建函數\n* 關鍵字：[bin()](https://www.runoob.com/python/python-func-bin.html), [oct()](https://www.runoob.com/python/python-func-oct.html), [hex()](https://www.runoob.com/python/python-func-hex.html)\n \n#### 輸入\n> 321\n  \n#### 輸出\n\n> 二進位：0b101000001\n\n> 八進位：0o501\n\n> 十六進位：0x141\n",
      "metadata": {}
    },
    {
      "cell_type": "code",
      "source": "x = 321\nprint('二進位：', bin(x))\nprint('八進位：', oct(x))\nprint('十六進位：', hex(x))",
      "metadata": {
        "trusted": true
      },
      "execution_count": 2,
      "outputs": [
        {
          "name": "stdout",
          "text": "二進位： 0b101000001\n八進位： 0o501\n十六進位： 0x141\n",
          "output_type": "stream"
        }
      ]
    },
    {
      "cell_type": "markdown",
      "source": "### 練習25：找字元的 ASCII 值",
      "metadata": {}
    },
    {
      "cell_type": "markdown",
      "source": "* 關鍵字：[chr()](https://www.runoob.com/python/python-func-chr.html), [ord()](https://www.runoob.com/python/python-func-ord.html)\n\n#### 輸入\n> 任一字元\n\n#### 輸出\n>ASCII 值",
      "metadata": {}
    },
    {
      "cell_type": "code",
      "source": "input_str = 'A'\nprint(input_str, ' : ', ord(input_str))\nprint('ASCII table:')\nprint('=='*14)\nfor i in range(ord('A'), ord('z')+1, 5):\n    for j in range(i, i+5):\n        if j <= ord('z'):\n          print('{}({:03d}) '.format(chr(j), j),end='')\n    print()\n\n    ",
      "metadata": {
        "trusted": true
      },
      "execution_count": 16,
      "outputs": [
        {
          "name": "stdout",
          "text": "A  :  65\nASCII table:\n============================\nA(065) B(066) C(067) D(068) E(069) \nF(070) G(071) H(072) I(073) J(074) \nK(075) L(076) M(077) N(078) O(079) \nP(080) Q(081) R(082) S(083) T(084) \nU(085) V(086) W(087) X(088) Y(089) \nZ(090) [(091) \\(092) ](093) ^(094) \n_(095) `(096) a(097) b(098) c(099) \nd(100) e(101) f(102) g(103) h(104) \ni(105) j(106) k(107) l(108) m(109) \nn(110) o(111) p(112) q(113) r(114) \ns(115) t(116) u(117) v(118) w(119) \nx(120) y(121) z(122) \n",
          "output_type": "stream"
        }
      ]
    },
    {
      "cell_type": "markdown",
      "source": "### 練習26：計算 HCF 或 GCD",
      "metadata": {}
    },
    {
      "cell_type": "markdown",
      "source": "* 最大公因數(GCD)\n* 運用**輾轉相除法**完成",
      "metadata": {}
    },
    {
      "cell_type": "markdown",
      "source": "#### 輸入\n\n> 兩正整數 $a$, $b$\n\n#### 輸出\n\n> $(a, b)$",
      "metadata": {}
    },
    {
      "cell_type": "code",
      "source": "def gcd(a, b):\n    if a < b: a, b = b, a\n    if a == 0 or b == 0: raise ValueError('參數不能為 0')\n    while a > 1 and b != 0:\n        a, b = b, a % b\n    return a",
      "metadata": {
        "trusted": true
      },
      "execution_count": 47,
      "outputs": []
    },
    {
      "cell_type": "code",
      "source": "output = 'gcd({}, {}) = {}'\nprint(output.format(2, 9, gcd(2, 9)))\nprint(output.format(12, 18, gcd(12, 18)))\nprint(output.format(48, 36, gcd(48, 36)))",
      "metadata": {
        "trusted": true
      },
      "execution_count": 50,
      "outputs": [
        {
          "name": "stdout",
          "text": "gcd(2, 9) = 1\ngcd(12, 18) = 6\ngcd(48, 36) = 12\n",
          "output_type": "stream"
        }
      ]
    },
    {
      "cell_type": "markdown",
      "source": "### 練習27：計算 LCM",
      "metadata": {}
    },
    {
      "cell_type": "markdown",
      "source": "* 最小公倍數(LCM)",
      "metadata": {}
    },
    {
      "cell_type": "markdown",
      "source": "#### 輸入\n\n> 兩正整數 $a$, $b$\n\n#### 輸出\n\n> $[a, b]$",
      "metadata": {}
    },
    {
      "cell_type": "code",
      "source": "def lcm(a, b):\n    g = gcd(a, b)\n    return a*b//g",
      "metadata": {
        "trusted": true
      },
      "execution_count": 53,
      "outputs": []
    },
    {
      "cell_type": "code",
      "source": "lcm(12, 18)",
      "metadata": {
        "trusted": true
      },
      "execution_count": 57,
      "outputs": [
        {
          "execution_count": 57,
          "output_type": "execute_result",
          "data": {
            "text/plain": "36"
          },
          "metadata": {}
        }
      ]
    },
    {
      "cell_type": "markdown",
      "source": "### 練習28：找數字的因數",
      "metadata": {}
    },
    {
      "cell_type": "markdown",
      "source": "#### 輸入\n\n> 正整數 $n$\n\n#### 輸出\n\n> $n$ 的所有正因數, 除了 1 以外",
      "metadata": {}
    },
    {
      "cell_type": "code",
      "source": "# n = 1 => find_first_factor = 1\n# n 是質數 => find_first_factor = n\n# n 是合數 => 1 < find_first_factor < n\ndef find_first_factor(n: int):\n    i = 2\n    while i < int(n ** 0.5) + 1:\n        if n % i == 0: return i\n        i += 1\n    return n\n\ndef decomposite(n):\n    result = []\n    dividor = n\n    while n > 1:\n        dividor = find_first_factor(n)\n        result.append(dividor)\n        n = n // dividor\n    return result",
      "metadata": {
        "trusted": true
      },
      "execution_count": 16,
      "outputs": []
    },
    {
      "cell_type": "code",
      "source": "def decomposite(n):\n    result = []\n    dividor = n\n    while n > 1:\n        i = 2\n        found = False\n        # 找 n 除了 1 以外的因數\n        while i < int(n**0.5) + 1 and not found:\n            if n % i == 0:\n                found = True\n                break\n            i += 1\n        if found: dividor = i\n        else: dividor = n\n        result.append(dividor)\n        n = n // dividor\n    # 不再有其他因數\n    return result\n\nfor i in [198, 144, 97, 98, 99, 100, 2]:\n    print(i, decomposite(i))",
      "metadata": {
        "trusted": true
      },
      "execution_count": 21,
      "outputs": [
        {
          "name": "stdout",
          "text": "198 [2, 3, 3, 11]\n144 [2, 2, 2, 2, 3, 3]\n97 [97]\n98 [2, 7, 7]\n99 [3, 3, 11]\n100 [2, 2, 5, 5]\n2 [2]\n",
          "output_type": "stream"
        }
      ]
    },
    {
      "cell_type": "code",
      "source": "find_first_factor(72)",
      "metadata": {
        "trusted": true
      },
      "execution_count": 27,
      "outputs": [
        {
          "execution_count": 27,
          "output_type": "execute_result",
          "data": {
            "text/plain": "2"
          },
          "metadata": {}
        }
      ]
    },
    {
      "cell_type": "code",
      "source": "decomposite(198)",
      "metadata": {
        "trusted": true
      },
      "execution_count": 22,
      "outputs": [
        {
          "execution_count": 22,
          "output_type": "execute_result",
          "data": {
            "text/plain": "[2, 3, 3, 11]"
          },
          "metadata": {}
        }
      ]
    },
    {
      "cell_type": "code",
      "source": "l = decomposite(198)\nfactors = {n: l.count(n) for n in l}\nprint('198 = ', end ='')\nprint(' * '.join([str(k)+'^'+str(v) for k, v in factors.items()]))",
      "metadata": {
        "trusted": true
      },
      "execution_count": 23,
      "outputs": [
        {
          "name": "stdout",
          "text": "198 = 2^1 * 3^2 * 11^1\n",
          "output_type": "stream"
        }
      ]
    },
    {
      "cell_type": "markdown",
      "source": "### 練習29：製作簡單計算器",
      "metadata": {}
    },
    {
      "cell_type": "markdown",
      "source": "* 計算器支援運算\n  1. 四則運算\n  2. 指數\n  3. 小括號",
      "metadata": {}
    },
    {
      "cell_type": "markdown",
      "source": "#### 輸入\n\n> 數學式\n\n#### 輸出\n\n> 運算數值",
      "metadata": {}
    },
    {
      "cell_type": "code",
      "source": "expression = '(2*(3+5)-2*3)**2'\nprint(expression)\nprint(eval(expression))",
      "metadata": {
        "trusted": true
      },
      "execution_count": 28,
      "outputs": [
        {
          "name": "stdout",
          "text": "(2*(3+5)-2*3)**2\n100\n",
          "output_type": "stream"
        }
      ]
    },
    {
      "cell_type": "markdown",
      "source": "### 練習30：發牌程式",
      "metadata": {}
    },
    {
      "cell_type": "markdown",
      "source": "#### 輸出\n\n> 隨機抽得 5 張撲克牌的結果",
      "metadata": {}
    },
    {
      "cell_type": "code",
      "source": "from random import shuffle\nfrom itertools import product\namount = 5\n# 使用 unicode 定義的花色\ndecks = ['\\u2660', '\\u2661', '\\u2662', '\\u2663']\n# 產生撲克片的所有組合\ncards = list(product(decks, range(1, 14)))\nshuffle(cards)\n\nfor card in cards[0:amount]:\n    print(card[0], card[1])",
      "metadata": {
        "trusted": true
      },
      "execution_count": 1,
      "outputs": [
        {
          "name": "stdout",
          "text": "♡ 4\n♢ 6\n♢ 13\n♡ 5\n♠ 11\n",
          "output_type": "stream"
        }
      ]
    },
    {
      "cell_type": "code",
      "source": "p = cards[0:amount]\n# 牌按花色及數字排列\np.sort(key=lambda x: ord(x[0])*13+x[1])\nprint(p)",
      "metadata": {
        "trusted": true
      },
      "execution_count": 2,
      "outputs": [
        {
          "name": "stdout",
          "text": "[('♠', 11), ('♡', 4), ('♡', 5), ('♢', 6), ('♢', 13)]\n",
          "output_type": "stream"
        }
      ]
    }
  ]
}