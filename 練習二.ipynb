{
  "metadata": {
    "language_info": {
      "codemirror_mode": {
        "name": "python",
        "version": 3
      },
      "file_extension": ".py",
      "mimetype": "text/x-python",
      "name": "python",
      "nbconvert_exporter": "python",
      "pygments_lexer": "ipython3",
      "version": "3.8"
    },
    "kernelspec": {
      "name": "python",
      "display_name": "Pyolite",
      "language": "python"
    }
  },
  "nbformat_minor": 4,
  "nbformat": 4,
  "cells": [
    {
      "cell_type": "markdown",
      "source": "### 練習11：檢查數字是奇數還是偶數",
      "metadata": {}
    },
    {
      "cell_type": "markdown",
      "source": "#### 輸出\n\n* 輸入一個整數: 43\n> 43 是奇數\n\n* 輸入一個整數: 18\n> 18 是偶數\n",
      "metadata": {}
    },
    {
      "cell_type": "markdown",
      "source": "### 練習12：檢查是否閏年",
      "metadata": {}
    },
    {
      "cell_type": "markdown",
      "source": "#### 閏年規則\n1. 若西元年被 4 整除，則為閏年\n1. 承上，但若西元年被 100 整除，則不為閏年\n1. 承上，但若西元年被 400 整除，則為閏年",
      "metadata": {}
    },
    {
      "cell_type": "markdown",
      "source": "#### 輸出\n",
      "metadata": {}
    },
    {
      "cell_type": "raw",
      "source": "2017 不是閏年\n1900 不是閏年\n2012 是閏年\n2000 是閏年",
      "metadata": {}
    },
    {
      "cell_type": "markdown",
      "source": "### 練習13：找到三個數字中的最大數",
      "metadata": {}
    },
    {
      "cell_type": "markdown",
      "source": "* 變數\n  * num1 = 10\n  * num2 = 14\n  * num3 = 12\n\n#### 輸出\n> 最大數為 14\n",
      "metadata": {}
    },
    {
      "cell_type": "markdown",
      "source": "### 練習14：檢查是否質數\n",
      "metadata": {}
    },
    {
      "cell_type": "markdown",
      "source": "* 設定旗標值\n  * isprime = False\n* 輸入整數 n\n#### 輸出\n\n> n 是質數\n\n> n 不是質數",
      "metadata": {}
    },
    {
      "cell_type": "markdown",
      "source": "### 練習15：間隔印出所有質數",
      "metadata": {}
    },
    {
      "cell_type": "markdown",
      "source": "#### 輸出",
      "metadata": {}
    },
    {
      "cell_type": "raw",
      "source": "下列是 900 與 1000 之間的質數：\n907\n911\n919\n929\n937\n941\n947\n953\n967\n971\n977\n983\n991\n997",
      "metadata": {}
    },
    {
      "cell_type": "markdown",
      "source": "### 練習16：計算數字的階層",
      "metadata": {}
    },
    {
      "cell_type": "markdown",
      "source": "#### 7! = 1 * 2 * 3 * 4 * 5 * 6 * 7",
      "metadata": {
        "tags": []
      }
    },
    {
      "cell_type": "markdown",
      "source": "* 0! 定義為 1",
      "metadata": {}
    },
    {
      "cell_type": "markdown",
      "source": "#### 運用**迴圈**計算階層\n* 輸出\n\n> 7! = 5040",
      "metadata": {}
    },
    {
      "cell_type": "markdown",
      "source": "#### 運用**遞迴**計算階層\n* 輸出\n\n> 7! = 5040",
      "metadata": {}
    },
    {
      "cell_type": "markdown",
      "source": "### 練習17：顯示乘法表\n",
      "metadata": {}
    },
    {
      "cell_type": "markdown",
      "source": "#### 輸出",
      "metadata": {}
    },
    {
      "cell_type": "raw",
      "source": "輸入數字：12\n12 x 1 = 12\n12 x 2 = 24\n12 x 3 = 36\n12 x 4 = 48\n12 x 5 = 60\n12 x 6 = 72\n12 x 7 = 84\n12 x 8 = 96\n12 x 9 = 108\n12 x 10 = 120",
      "metadata": {}
    },
    {
      "cell_type": "markdown",
      "source": "### 練習18：列印 Fibonacci 數列\n",
      "metadata": {}
    },
    {
      "cell_type": "markdown",
      "source": "#### 輸出",
      "metadata": {}
    },
    {
      "cell_type": "raw",
      "source": "顯示前幾項？ 7\n費氏數列：\n0\n1\n1\n2\n3\n5\n8",
      "metadata": {}
    },
    {
      "cell_type": "markdown",
      "source": "### 練習19：查 Armstrong 數\n",
      "metadata": {}
    },
    {
      "cell_type": "markdown",
      "source": "正整數被稱為 *Armstrong 數*，若：\n\n1. $ abcd... = a^{n} + b^{n} + c^{n} + d^{n} + ... $\n1. 以三位數來說，若各位數的 3 次方和等於該數字本身，則該數即為 *Armstrong 數*\n  * 例：$ 153 = 1*1*1 + 5*5*5 + 3*3*3 $ ，153 是一 *Armstrong 數*。",
      "metadata": {}
    },
    {
      "cell_type": "markdown",
      "source": "### 練習20：間隔中查找 Armstrong 數\n",
      "metadata": {}
    },
    {
      "cell_type": "markdown",
      "source": "* 輸入\n  * 下界 = 100\n  * 上界 = 2000",
      "metadata": {}
    },
    {
      "cell_type": "markdown",
      "source": "#### 輸出",
      "metadata": {}
    },
    {
      "cell_type": "raw",
      "source": "153\n370\n371\n407\n1634",
      "metadata": {}
    }
  ]
}