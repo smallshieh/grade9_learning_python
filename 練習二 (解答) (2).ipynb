{
  "metadata": {
    "language_info": {
      "codemirror_mode": {
        "name": "python",
        "version": 3
      },
      "file_extension": ".py",
      "mimetype": "text/x-python",
      "name": "python",
      "nbconvert_exporter": "python",
      "pygments_lexer": "ipython3",
      "version": "3.8"
    },
    "kernelspec": {
      "name": "python",
      "display_name": "Pyolite",
      "language": "python"
    }
  },
  "nbformat_minor": 4,
  "nbformat": 4,
  "cells": [
    {
      "cell_type": "markdown",
      "source": "### 練習11：檢查數字是奇數還是偶數",
      "metadata": {}
    },
    {
      "cell_type": "markdown",
      "source": "#### 輸出\n\n* 輸入一個整數: 43\n> 43 是奇數\n\n* 輸入一個整數: 18\n> 18 是偶數\n",
      "metadata": {}
    },
    {
      "cell_type": "code",
      "source": "import random\nnum = random.randrange(-10,51)\noutput = \"{} 是{}數\"\nif num % 2: print(output.format(num, '奇'))\nelse: print(output.format(num, '偶'))",
      "metadata": {
        "trusted": true
      },
      "execution_count": 1,
      "outputs": [
        {
          "name": "stdout",
          "text": "-3 是奇數\n",
          "output_type": "stream"
        }
      ]
    },
    {
      "cell_type": "markdown",
      "source": "### 練習12：檢查是否閏年",
      "metadata": {}
    },
    {
      "cell_type": "markdown",
      "source": "#### 閏年規則\n1. 若西元年被 4 整除，則為閏年\n1. 承上，但若西元年被 100 整除，則不為閏年\n1. 承上，但若西元年被 400 整除，則為閏年",
      "metadata": {}
    },
    {
      "cell_type": "markdown",
      "source": "#### 輸出\n",
      "metadata": {}
    },
    {
      "cell_type": "raw",
      "source": "2017 不是閏年\n1900 不是閏年\n2012 是閏年\n2000 是閏年",
      "metadata": {}
    },
    {
      "cell_type": "code",
      "source": "# return true if year is leap\n# return false if year is not leap\n\n# 較符合人類口語理解\ndef isleap(year):\n    if year % 400 == 0: return True\n    else:\n        if (year % 4 == 0) and not (year % 100 == 0): return True\n        else: return False\n\n# 邏輯化，但較不合人類口語\ndef isleap2(year):\n    return (year % 400 == 0) or ((year % 4 == 0) and not (year % 100 == 0))\n    \nlst = [2017, 1900, 2012, 2000]\nfor n in lst:\n    if isleap2(n): print(n, '是閏年')\n    else: print(n, '不是閏年')\n",
      "metadata": {
        "trusted": true
      },
      "execution_count": 4,
      "outputs": [
        {
          "name": "stdout",
          "text": "2017 不是閏年\n1900 不是閏年\n2012 是閏年\n2000 是閏年\n",
          "output_type": "stream"
        }
      ]
    },
    {
      "cell_type": "markdown",
      "source": "### 練習13：找到三個數字中的最大數",
      "metadata": {}
    },
    {
      "cell_type": "markdown",
      "source": "* 變數\n  * num1 = 10\n  * num2 = 14\n  * num3 = 12\n\n#### 輸出\n> 最大數為 14\n",
      "metadata": {}
    },
    {
      "cell_type": "code",
      "source": "num1 = 10\nnum2 = 14\nnum3 = 12\n\ndef max(lst):\n    maxvalue = -1000\n    for i in lst:\n        if i > maxvalue: maxvalue = i\n    return maxvalue\nprint('最大數為', max([num1, num2, num3]))",
      "metadata": {
        "trusted": true
      },
      "execution_count": 3,
      "outputs": [
        {
          "name": "stdout",
          "text": "最大數為 14\n",
          "output_type": "stream"
        }
      ]
    },
    {
      "cell_type": "markdown",
      "source": "### 練習14：檢查是否質數\n",
      "metadata": {}
    },
    {
      "cell_type": "markdown",
      "source": "* 設定旗標值\n  * isprime = False\n* 輸入整數 n\n#### 輸出\n\n> n 是質數\n\n> n 不是質數",
      "metadata": {}
    },
    {
      "cell_type": "code",
      "source": "import random\nnum = random.randrange(2, 21)\nisprime = True\nfor i in range(2, round(num**0.5)+1):\n    if num % i == 0:\n        isprime = False\n        break\nif isprime: print(num, '是質數')\nelse: print(num, '不是質數')",
      "metadata": {
        "trusted": true
      },
      "execution_count": 4,
      "outputs": [
        {
          "name": "stdout",
          "text": "20 不是質數\n",
          "output_type": "stream"
        }
      ]
    },
    {
      "cell_type": "code",
      "source": "import random\nnum = random.randrange(2, 21)\ndivided = False\ni = 2\n'''\n1. 如果找不到被整除的數而且 i < (根號 num)+1，\n   則 while 迴圈會執行\n2. 以上如果沒有 +1, 遇到完全平方數會錯誤\n'''\nwhile not divided and i < round(num**0.5)+1:\n    if num % i == 0: divided = True\n    i = i + 1\n\nif not divided: print(num, '是質數')\nelse: print(num, '不是質數')",
      "metadata": {
        "trusted": true
      },
      "execution_count": 5,
      "outputs": [
        {
          "name": "stdout",
          "text": "14 不是質數\n",
          "output_type": "stream"
        }
      ]
    },
    {
      "cell_type": "markdown",
      "source": "### 練習15：間隔印出所有質數",
      "metadata": {}
    },
    {
      "cell_type": "markdown",
      "source": "#### 輸出",
      "metadata": {}
    },
    {
      "cell_type": "raw",
      "source": "下列是 900 與 1000 之間的質數：\n907\n911\n919\n929\n937\n941\n947\n953\n967\n971\n977\n983\n991\n997",
      "metadata": {}
    },
    {
      "cell_type": "code",
      "source": "# while 版本\ndef isprime(n):\n    i = 2\n    while i < round(n**.5)+1:\n        # return 會終止迴圈, 不用 break\n        if n % i == 0: return False\n        i += 1\n    return True\n\n[i for i in range(2,21) if isprime(i)]",
      "metadata": {
        "trusted": true
      },
      "execution_count": 6,
      "outputs": [
        {
          "execution_count": 6,
          "output_type": "execute_result",
          "data": {
            "text/plain": "[2, 3, 5, 7, 11, 13, 17, 19]"
          },
          "metadata": {}
        }
      ]
    },
    {
      "cell_type": "code",
      "source": "# for 版本\ndef isprime(n):\n    for i in range(2, round(n**0.5)+1):\n        # return 會終止迴圈\n        if n % i == 0: return False\n    return True\n    #return not flag\n\n[i for i in range(2,21) if isprime(i)]",
      "metadata": {
        "trusted": true
      },
      "execution_count": 7,
      "outputs": [
        {
          "execution_count": 7,
          "output_type": "execute_result",
          "data": {
            "text/plain": "[2, 3, 5, 7, 11, 13, 17, 19]"
          },
          "metadata": {}
        }
      ]
    },
    {
      "cell_type": "code",
      "source": "primes = [i for i in range(900, 1001) if isprime(i)]\nprimes",
      "metadata": {
        "trusted": true
      },
      "execution_count": 8,
      "outputs": [
        {
          "execution_count": 8,
          "output_type": "execute_result",
          "data": {
            "text/plain": "[907, 911, 919, 929, 937, 941, 947, 953, 967, 971, 977, 983, 991, 997]"
          },
          "metadata": {}
        }
      ]
    },
    {
      "cell_type": "markdown",
      "source": "### 練習16：計算數字的階層",
      "metadata": {}
    },
    {
      "cell_type": "markdown",
      "source": "#### 7! = 1 * 2 * 3 * 4 * 5 * 6 * 7",
      "metadata": {
        "tags": []
      }
    },
    {
      "cell_type": "markdown",
      "source": "* 0! 定義為 1",
      "metadata": {}
    },
    {
      "cell_type": "markdown",
      "source": "#### 運用**迴圈**計算階層\n* 輸出\n\n> 7! = 5040",
      "metadata": {}
    },
    {
      "cell_type": "code",
      "source": "def factorial1(n: int):\n    if n == 0: return 1\n    result = 1\n    for i in range(1,8):\n        result *= i\n    return result\n    \nprint(\"7! =\", factorial1(7))",
      "metadata": {
        "trusted": true
      },
      "execution_count": 9,
      "outputs": [
        {
          "name": "stdout",
          "text": "7! = 5040\n",
          "output_type": "stream"
        }
      ]
    },
    {
      "cell_type": "markdown",
      "source": "#### 運用**遞迴**計算階層\n* 輸出\n\n> 7! = 5040",
      "metadata": {}
    },
    {
      "cell_type": "code",
      "source": "def factorial2(n: int):\n    if n == 0: return 1\n    return n*factorial2(n-1)\n\nprint(\"7! =\", factorial2(7))",
      "metadata": {
        "trusted": true
      },
      "execution_count": 10,
      "outputs": [
        {
          "name": "stdout",
          "text": "7! = 5040\n",
          "output_type": "stream"
        }
      ]
    },
    {
      "cell_type": "markdown",
      "source": "### 練習17：顯示乘法表\n",
      "metadata": {}
    },
    {
      "cell_type": "markdown",
      "source": "#### 輸出",
      "metadata": {}
    },
    {
      "cell_type": "raw",
      "source": "輸入數字：12\n12 x 1 = 12\n12 x 2 = 24\n12 x 3 = 36\n12 x 4 = 48\n12 x 5 = 60\n12 x 6 = 72\n12 x 7 = 84\n12 x 8 = 96\n12 x 9 = 108\n12 x 10 = 120",
      "metadata": {}
    },
    {
      "cell_type": "code",
      "source": "import random\nnum = random.randrange(2, 20)\n# 把輸出字串對齊, 2d 是 2格, 3d 是 3格, d 表示以 10 進位整數顯示\noutput = '{:2d} X {:2d} = {:3d}'\nfor i in range(1,11):\n    print(output.format(num, i, num*i))",
      "metadata": {
        "trusted": true
      },
      "execution_count": 11,
      "outputs": [
        {
          "name": "stdout",
          "text": "13 X  1 =  13\n13 X  2 =  26\n13 X  3 =  39\n13 X  4 =  52\n13 X  5 =  65\n13 X  6 =  78\n13 X  7 =  91\n13 X  8 = 104\n13 X  9 = 117\n13 X 10 = 130\n",
          "output_type": "stream"
        }
      ]
    },
    {
      "cell_type": "markdown",
      "source": "### 練習18：列印 Fibonacci 數列\n",
      "metadata": {}
    },
    {
      "cell_type": "markdown",
      "source": "#### 輸出",
      "metadata": {}
    },
    {
      "cell_type": "raw",
      "source": "顯示前幾項？ 7\n費氏數列：\n0\n1\n1\n2\n3\n5\n8",
      "metadata": {}
    },
    {
      "cell_type": "code",
      "source": "# 求費氏數列, while 迴圈版本\nnterm = 7\ni = 0\na1 = 0\na2 = 1\ntemp = 0\n# 0 <= i < 7, while 走 7 次\nwhile i < nterm:\n    if i == 0: \n        print('0')\n        i += 1\n        continue\n    if i == 1: \n        print('1')\n        i += 1\n        continue\n    temp = a1+a2\n    print(temp)\n    a1 = a2\n    a2 = temp\n    i += 1\n    ",
      "metadata": {
        "trusted": true
      },
      "execution_count": 12,
      "outputs": [
        {
          "name": "stdout",
          "text": "0\n1\n1\n2\n3\n5\n8\n",
          "output_type": "stream"
        }
      ]
    },
    {
      "cell_type": "code",
      "source": "# 求費氏數列, 遞迴版本\ndef fib_recusive(n: int):\n    if n == 1: return 0\n    if n == 2: return 1\n    return fib_recusive(n-1) + fib_recusive(n-2)\n[fib_recusive(i) for i in range(1, 8)]",
      "metadata": {
        "trusted": true
      },
      "execution_count": 13,
      "outputs": [
        {
          "execution_count": 13,
          "output_type": "execute_result",
          "data": {
            "text/plain": "[0, 1, 1, 2, 3, 5, 8]"
          },
          "metadata": {}
        }
      ]
    },
    {
      "cell_type": "code",
      "source": "# 求費氏數列, for 迴圈版本\nfibs = [0, 1]\nnterm = 7\n# 要求出 7 項費氏數列，只要再加上 5 項，所以 for 走 5 次即可\nfor i in range(1,nterm -2 + 1):\n    fibs.append(fibs[-1]+fibs[-2])\nfibs",
      "metadata": {
        "trusted": true
      },
      "execution_count": 14,
      "outputs": [
        {
          "execution_count": 14,
          "output_type": "execute_result",
          "data": {
            "text/plain": "[0, 1, 1, 2, 3, 5, 8]"
          },
          "metadata": {}
        }
      ]
    },
    {
      "cell_type": "markdown",
      "source": "### 練習19：查 Armstrong 數\n",
      "metadata": {}
    },
    {
      "cell_type": "markdown",
      "source": "正整數被稱為 *Armstrong 數*，若：\n\n1. $ abcd... = a^{n} + b^{n} + c^{n} + d^{n} + ... $\n1. 以三位數來說，若各位數的 3 次方和等於該數字本身，則該數即為 *Armstrong 數*\n  * 例：$ 153 = 1*1*1 + 5*5*5 + 3*3*3 $ ，153 是一 *Armstrong 數*。",
      "metadata": {}
    },
    {
      "cell_type": "code",
      "source": "# 計算 Armstrong 數值\n# 把整數轉成字串, 再用 len() 求其是幾位數\ndef compute_armstrong_value(n):\n    s = str(n)\n    digits = len(s)\n    return sum([int(i)**digits for i in s])",
      "metadata": {
        "trusted": true
      },
      "execution_count": 15,
      "outputs": []
    },
    {
      "cell_type": "code",
      "source": "compute_armstrong_value(370)",
      "metadata": {
        "trusted": true
      },
      "execution_count": 16,
      "outputs": [
        {
          "execution_count": 16,
          "output_type": "execute_result",
          "data": {
            "text/plain": "370"
          },
          "metadata": {}
        }
      ]
    },
    {
      "cell_type": "code",
      "source": "# 檢查是否為 Armstrong 數\ndef is_armstrong_number(n: int):\n    return n == compute_armstrong_value(n)\narmstrong_numbers = [i for i in range(10, 2000+1) if is_armstrong_number(i)]\narmstrong_numbers",
      "metadata": {
        "trusted": true
      },
      "execution_count": 17,
      "outputs": [
        {
          "execution_count": 17,
          "output_type": "execute_result",
          "data": {
            "text/plain": "[153, 370, 371, 407, 1634]"
          },
          "metadata": {}
        }
      ]
    },
    {
      "cell_type": "markdown",
      "source": "### 練習20：間隔中查找 Armstrong 數\n",
      "metadata": {}
    },
    {
      "cell_type": "markdown",
      "source": "* 輸入\n  * 下界 = 100\n  * 上界 = 2000",
      "metadata": {}
    },
    {
      "cell_type": "markdown",
      "source": "#### 輸出",
      "metadata": {}
    },
    {
      "cell_type": "raw",
      "source": "153\n370\n371\n407\n1634",
      "metadata": {}
    },
    {
      "cell_type": "code",
      "source": "for i in range(100,2000+1):\n    if i == compute_armstrong_value(i): print(i)",
      "metadata": {
        "trusted": true
      },
      "execution_count": 18,
      "outputs": [
        {
          "name": "stdout",
          "text": "153\n370\n371\n407\n1634\n",
          "output_type": "stream"
        }
      ]
    }
  ]
}