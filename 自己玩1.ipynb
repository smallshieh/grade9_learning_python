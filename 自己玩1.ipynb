{
  "metadata": {
    "kernelspec": {
      "name": "python",
      "display_name": "Pyolite",
      "language": "python"
    },
    "language_info": {
      "codemirror_mode": {
        "name": "python",
        "version": 3
      },
      "file_extension": ".py",
      "mimetype": "text/x-python",
      "name": "python",
      "nbconvert_exporter": "python",
      "pygments_lexer": "ipython3",
      "version": "3.8"
    }
  },
  "nbformat_minor": 4,
  "nbformat": 4,
  "cells": [
    {
      "cell_type": "markdown",
      "source": "# 簡介",
      "metadata": {}
    },
    {
      "cell_type": "markdown",
      "source": "**界面簡單教學**：使用 Jupyter 的命令\n\n* ESC 鍵取消高亮的儲存格(cell) 並進入**命令模式**(command mode)\n* ENTER 鍵進入**編輯模式**\n* \"a\" 鍵在目前儲存格**上方新增** 一格，\"b\" 鍵則在**下方新增**一格\n* \"dd\" 按 \"d\" 兩次，**刪除**儲存格，按 \"z\" 鍵**回復**\n* SHIFT+ENTER 鍵，只**執行**目前儲存格",
      "metadata": {}
    },
    {
      "cell_type": "markdown",
      "source": "### 執行以下運算式",
      "metadata": {}
    },
    {
      "cell_type": "code",
      "source": "17%5",
      "metadata": {
        "trusted": true
      },
      "execution_count": null,
      "outputs": []
    },
    {
      "cell_type": "code",
      "source": "4*5+6",
      "metadata": {
        "trusted": true
      },
      "execution_count": null,
      "outputs": []
    },
    {
      "cell_type": "code",
      "source": "14//5",
      "metadata": {
        "trusted": true
      },
      "execution_count": null,
      "outputs": []
    },
    {
      "cell_type": "markdown",
      "source": "### 變數",
      "metadata": {}
    },
    {
      "cell_type": "code",
      "source": "x = 10",
      "metadata": {
        "trusted": true
      },
      "execution_count": null,
      "outputs": []
    },
    {
      "cell_type": "code",
      "source": "x = 3",
      "metadata": {
        "trusted": true
      },
      "execution_count": null,
      "outputs": []
    },
    {
      "cell_type": "code",
      "source": "x**2",
      "metadata": {
        "trusted": true
      },
      "execution_count": null,
      "outputs": []
    },
    {
      "cell_type": "code",
      "source": "x = 'ca{}t'.format('s')\nx",
      "metadata": {
        "trusted": true
      },
      "execution_count": null,
      "outputs": []
    },
    {
      "cell_type": "markdown",
      "source": "[format 函數的說明](https://www.runoob.com/python/att-string-format.html)",
      "metadata": {}
    },
    {
      "cell_type": "code",
      "source": "age = 25.456456456456",
      "metadata": {
        "trusted": true
      },
      "execution_count": null,
      "outputs": []
    },
    {
      "cell_type": "code",
      "source": "x = 'I am {:.0f} years old'.format(age)",
      "metadata": {
        "trusted": true
      },
      "execution_count": null,
      "outputs": []
    },
    {
      "cell_type": "code",
      "source": "x",
      "metadata": {
        "trusted": true
      },
      "execution_count": null,
      "outputs": []
    },
    {
      "cell_type": "markdown",
      "source": "### String, Lists, Tuples, Dictionaries, Arrays 等資料型態",
      "metadata": {}
    },
    {
      "cell_type": "markdown",
      "source": "#### 字串(String)",
      "metadata": {}
    },
    {
      "cell_type": "code",
      "source": "chs = 'abcdefghijklmnopqrstuvwxyz'\nn0_9 = \"0123456789\"\npoem = '''白日依山盡\n黃河入海流\n欲窮千里目\n更上一層樓'''",
      "metadata": {
        "trusted": true
      },
      "execution_count": null,
      "outputs": []
    },
    {
      "cell_type": "code",
      "source": "chs[3]",
      "metadata": {
        "trusted": true
      },
      "execution_count": null,
      "outputs": []
    },
    {
      "cell_type": "code",
      "source": "chs + n0_9",
      "metadata": {
        "trusted": true
      },
      "execution_count": null,
      "outputs": []
    },
    {
      "cell_type": "code",
      "source": "n0_9[3:8]",
      "metadata": {
        "trusted": true
      },
      "execution_count": null,
      "outputs": []
    },
    {
      "cell_type": "code",
      "source": "poem[-5:]",
      "metadata": {
        "trusted": true
      },
      "execution_count": null,
      "outputs": []
    },
    {
      "cell_type": "markdown",
      "source": "#### 列表(串列，List)",
      "metadata": {}
    },
    {
      "cell_type": "code",
      "source": "x = [1, 3, 5, 6, 'cat', [1,2]]\ny = ['dog', 'horse']",
      "metadata": {
        "trusted": true
      },
      "execution_count": null,
      "outputs": []
    },
    {
      "cell_type": "code",
      "source": "x.append(5)\nx",
      "metadata": {
        "trusted": true
      },
      "execution_count": null,
      "outputs": []
    },
    {
      "cell_type": "code",
      "source": "x+y",
      "metadata": {
        "trusted": true
      },
      "execution_count": null,
      "outputs": []
    },
    {
      "cell_type": "code",
      "source": "x[1] = 2",
      "metadata": {
        "trusted": true
      },
      "execution_count": null,
      "outputs": []
    },
    {
      "cell_type": "code",
      "source": "x",
      "metadata": {
        "trusted": true
      },
      "execution_count": null,
      "outputs": []
    },
    {
      "cell_type": "markdown",
      "source": "#### 元組(Tuple)",
      "metadata": {}
    },
    {
      "cell_type": "code",
      "source": "x = (1,2,3,'pete',[1,2])",
      "metadata": {
        "trusted": true
      },
      "execution_count": null,
      "outputs": []
    },
    {
      "cell_type": "code",
      "source": "x",
      "metadata": {
        "trusted": true
      },
      "execution_count": null,
      "outputs": []
    },
    {
      "cell_type": "markdown",
      "source": "#### 字典(目錄，Dict)",
      "metadata": {}
    },
    {
      "cell_type": "code",
      "source": "d = {'cat':'feline', 678:4}",
      "metadata": {
        "trusted": true
      },
      "execution_count": null,
      "outputs": []
    },
    {
      "cell_type": "code",
      "source": "d[678]",
      "metadata": {
        "trusted": true
      },
      "execution_count": null,
      "outputs": []
    },
    {
      "cell_type": "markdown",
      "source": "#### 陣列(元組，Array)",
      "metadata": {}
    },
    {
      "cell_type": "code",
      "source": "import numpy as np",
      "metadata": {},
      "execution_count": null,
      "outputs": []
    },
    {
      "cell_type": "code",
      "source": "x = np.array([1,5,8,6])",
      "metadata": {},
      "execution_count": null,
      "outputs": []
    },
    {
      "cell_type": "code",
      "source": "x = np.linspace(0, 20, 10)",
      "metadata": {},
      "execution_count": null,
      "outputs": []
    },
    {
      "cell_type": "code",
      "source": "x = np.arange(0, 20, 2)",
      "metadata": {},
      "execution_count": null,
      "outputs": []
    },
    {
      "cell_type": "markdown",
      "source": "### matplotlib 繪圖",
      "metadata": {}
    },
    {
      "cell_type": "code",
      "source": "import matplotlib.pyplot as plt\nimport numpy as np",
      "metadata": {
        "trusted": true
      },
      "execution_count": null,
      "outputs": []
    },
    {
      "cell_type": "code",
      "source": "x = np.linspace(0,1,10)\ny = x**2",
      "metadata": {
        "trusted": true
      },
      "execution_count": null,
      "outputs": []
    },
    {
      "cell_type": "code",
      "source": "plt.plot(x,y,'ro--')\nplt.xlabel('x', fontsize=15)\nplt.ylabel('y', fontsize=15)\nplt.grid()\nplt.show()",
      "metadata": {
        "trusted": true
      },
      "execution_count": null,
      "outputs": []
    },
    {
      "cell_type": "markdown",
      "source": "### for 相關的迴圈",
      "metadata": {}
    },
    {
      "cell_type": "markdown",
      "source": "Master all 5!",
      "metadata": {}
    },
    {
      "cell_type": "markdown",
      "source": "1. 一般迴圈",
      "metadata": {}
    },
    {
      "cell_type": "code",
      "source": "lst = []\nfor i in range(21):\n    lst.append(i**3)\nprint(lst)",
      "metadata": {
        "trusted": true
      },
      "execution_count": null,
      "outputs": []
    },
    {
      "cell_type": "markdown",
      "source": "2. List 迴圈",
      "metadata": {}
    },
    {
      "cell_type": "code",
      "source": "lst = ['fog', 'cat', 'horse']\nfor item in lst:\n    print(item)",
      "metadata": {},
      "execution_count": null,
      "outputs": []
    },
    {
      "cell_type": "markdown",
      "source": "3. 列舉、遍歷列表",
      "metadata": {}
    },
    {
      "cell_type": "code",
      "source": "lst = ['fog', 'cat', 'horse']\nfor i, item in enumerate(lst):\n    print('Index {} contains {}'.format(i, item))",
      "metadata": {
        "trusted": true
      },
      "execution_count": null,
      "outputs": []
    },
    {
      "cell_type": "markdown",
      "source": "4. 列表解析式(List comprehension)",
      "metadata": {}
    },
    {
      "cell_type": "code",
      "source": "lst = [i**3 for i in range(21)]\nprint(lst)",
      "metadata": {
        "trusted": true
      },
      "execution_count": null,
      "outputs": []
    },
    {
      "cell_type": "markdown",
      "source": "5. 雙層 for 迴圈",
      "metadata": {}
    },
    {
      "cell_type": "code",
      "source": "for i in range(5):\n    for j in range(5):\n        print('i={} j={}'.format(i,j))",
      "metadata": {},
      "execution_count": null,
      "outputs": []
    },
    {
      "cell_type": "markdown",
      "source": "### 布林值(booleans) 和 if 敍述句",
      "metadata": {}
    },
    {
      "cell_type": "code",
      "source": "a = True\nb = False",
      "metadata": {},
      "execution_count": null,
      "outputs": []
    },
    {
      "cell_type": "code",
      "source": "i = 0",
      "metadata": {},
      "execution_count": null,
      "outputs": []
    },
    {
      "cell_type": "code",
      "source": "if i==0:\n    print('yes')",
      "metadata": {},
      "execution_count": null,
      "outputs": []
    },
    {
      "cell_type": "code",
      "source": "i = 0\nj = 4",
      "metadata": {},
      "execution_count": null,
      "outputs": []
    },
    {
      "cell_type": "code",
      "source": "if i==0 or j==3 :\n    print('yes')",
      "metadata": {},
      "execution_count": null,
      "outputs": []
    },
    {
      "cell_type": "code",
      "source": "if 4:\n    print('yes')",
      "metadata": {},
      "execution_count": null,
      "outputs": []
    },
    {
      "cell_type": "code",
      "source": "a = 'at' in 'cat'",
      "metadata": {},
      "execution_count": null,
      "outputs": []
    },
    {
      "cell_type": "code",
      "source": "if 'at' in 'cat':\n    print('yes')",
      "metadata": {},
      "execution_count": null,
      "outputs": []
    },
    {
      "cell_type": "markdown",
      "source": "# Problems",
      "metadata": {}
    },
    {
      "cell_type": "markdown",
      "source": "### Problem 1:",
      "metadata": {}
    },
    {
      "cell_type": "markdown",
      "source": "The equation for the height of a thrown ball is $y = -1/2 g t^2 + v_0 t$ where\n\n* $t$ is time\n* $y$ is the height of the ball\n* $v_0$ is the initial upward speed of the ball\n* $g$ is gravity\n\nJim throws his ball at 10m/s and Mark throws his at 15m/s upward. Plot the heigh of each of their ball as a function of time from 0 to 2 seconds",
      "metadata": {}
    },
    {
      "cell_type": "code",
      "source": "# 將 0 ~ 2 秒間，切成 100 等份\nt = np.linspace(0,2,100)\n# 設定重力加速度及初速\ng = 9.81\nv0_j = 10\nv0_m = 15\n",
      "metadata": {
        "trusted": true
      },
      "execution_count": null,
      "outputs": []
    },
    {
      "cell_type": "code",
      "source": "# Jim's\ny_j = -1/2 * g * t**2 + v0_j*t\n# Mark's\ny_m = -1/2 * g * t**2 + v0_m*t",
      "metadata": {},
      "execution_count": null,
      "outputs": []
    },
    {
      "cell_type": "code",
      "source": "plt.plot(t, y_j, label='Jim')\nplt.plot(t, y_m, label='Mark')\n# X 軸標籤\nplt.xlabel('Time')\n# Y 軸標籤\nplt.ylabel('Height')\nplt.grid()\n# 畫出圖例\nplt.legend()",
      "metadata": {},
      "execution_count": null,
      "outputs": []
    },
    {
      "cell_type": "markdown",
      "source": "### Problem 2:\n\nThe poem below is organized such that each poem line is a new element in the list\n\n```\npoem=['when day comes we ask ourselves,',\\\n    'where can we find light in this never-ending shade?',\\\n    'the loss we carry,',\\\n    'a sea we must wade',\\\n    \"we've braved the belly of the beast\",\\\n    \"we've learned that quiet isn't always peace\",\\\n    \"and the norms and notions\",\\\n    \"of what just is\"]`\n```    \nLoop through the lines of the poem, and if the line contains the substring `'we'`, then print `'line __ contains we'` where `'__'` is the line number.",
      "metadata": {}
    },
    {
      "cell_type": "code",
      "source": "poem=['when day comes we ask ourselves,',\n    'where can we find light in this never-ending shade?',\n    'the loss we carry,',\n    'a sea we must wade',\n    \"we've braved the belly of the beast\",\n    \"we've learned that quiet isn't always peace\",\n    \"and the norms and notions\",\n    \"of what just is\"]",
      "metadata": {
        "trusted": true
      },
      "execution_count": null,
      "outputs": []
    },
    {
      "cell_type": "code",
      "source": "for i, line in enumerate(poem):\n    if 'we' in line:\n        print('Line {} contains we'.format(i))",
      "metadata": {
        "trusted": true
      },
      "execution_count": null,
      "outputs": []
    },
    {
      "cell_type": "markdown",
      "source": "### Problem 3\n\nAdd up every number from 1 to 999999, except for those that can be divided by 4, and those that can be divided by 6",
      "metadata": {}
    },
    {
      "cell_type": "code",
      "source": "summation = 0\nfor i in range(1000000):\n    if not(i%4==0) and not(i%6==0):\n        summation = summation + i",
      "metadata": {},
      "execution_count": null,
      "outputs": []
    },
    {
      "cell_type": "code",
      "source": "summation",
      "metadata": {},
      "execution_count": null,
      "outputs": []
    },
    {
      "cell_type": "code",
      "source": "# 使用列表解析式\nnums_by_4_6_divided = [i for i in range(1000000) if not(i%4==0) and not(i%6==0)]\ncount = len(nums_by_4_6_divided)\nprint('共有 {} 個數字滿足所求'.format(count))\nprint('總和 = {}'.format(sum(nums_by_4_6_divided)))",
      "metadata": {
        "trusted": true
      },
      "execution_count": null,
      "outputs": []
    }
  ]
}