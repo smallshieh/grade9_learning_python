{
  "metadata": {
    "language_info": {
      "codemirror_mode": {
        "name": "python",
        "version": 3
      },
      "file_extension": ".py",
      "mimetype": "text/x-python",
      "name": "python",
      "nbconvert_exporter": "python",
      "pygments_lexer": "ipython3",
      "version": "3.8"
    },
    "kernelspec": {
      "name": "python",
      "display_name": "Pyolite",
      "language": "python"
    }
  },
  "nbformat_minor": 4,
  "nbformat": 4,
  "cells": [
    {
      "cell_type": "markdown",
      "source": "### 練習1：印出 Hello world",
      "metadata": {}
    },
    {
      "cell_type": "markdown",
      "source": "* 函數：print()\n* 顯示結果：\n#### Hello, world!",
      "metadata": {}
    },
    {
      "cell_type": "code",
      "source": "# 寫下你的程式碼 01",
      "metadata": {},
      "execution_count": null,
      "outputs": []
    },
    {
      "cell_type": "markdown",
      "source": "### 練習2：兩個數相加",
      "metadata": {}
    },
    {
      "cell_type": "markdown",
      "source": "* 使用函數：print()\n* 設定兩變數：\n  * num1 = 1.5\n  * num2 = 6.3\n* 輸出，兩數相加的結果：\n#### 數字 1.5 和 6.3 相加等於 7.8",
      "metadata": {}
    },
    {
      "cell_type": "code",
      "source": "# 寫下你的程式碼 02-1",
      "metadata": {},
      "execution_count": null,
      "outputs": []
    },
    {
      "cell_type": "markdown",
      "source": "### 練習2：兩個數相加",
      "metadata": {}
    },
    {
      "cell_type": "markdown",
      "source": "* 使用函數 int()、input()\n* 輸入：任意兩數\n* 輸出，兩數相加的結果\n",
      "metadata": {
        "tags": []
      }
    },
    {
      "cell_type": "code",
      "source": "# 寫下你的程式碼 02-2",
      "metadata": {},
      "execution_count": null,
      "outputs": []
    },
    {
      "cell_type": "markdown",
      "source": "### 練習3：算平方根\n",
      "metadata": {}
    },
    {
      "cell_type": "markdown",
      "source": "* 使用函數：input()、print()、[format()](https://www.runoob.com/python/att-string-format.html)\n* 計算正平方根\n* 輸入任意正數\n* 輸出結果：\n#### 8.000 的正平方根 2.828",
      "metadata": {}
    },
    {
      "cell_type": "code",
      "source": "# 寫下你的程式碼 03",
      "metadata": {},
      "execution_count": null,
      "outputs": []
    },
    {
      "cell_type": "markdown",
      "source": "### 練習4：計算三角形面積",
      "metadata": {}
    },
    {
      "cell_type": "markdown",
      "source": "* 數學公式：海龍公式\n* 輸入三角形邊長\n* 輸出：三角形面積\n",
      "metadata": {}
    },
    {
      "cell_type": "code",
      "source": "# 寫下你的程式碼 04",
      "metadata": {},
      "execution_count": null,
      "outputs": []
    },
    {
      "cell_type": "markdown",
      "source": "### 練習5：二次方程式的解",
      "metadata": {}
    },
    {
      "cell_type": "markdown",
      "source": "* 使用函數：input()、print()、math.sqrt()\n* 關鍵字：*import*\n* 輸入係數 *a、b、c*\n* 輸出：方程式的解",
      "metadata": {}
    },
    {
      "cell_type": "code",
      "source": "# 寫下你的程式碼 05",
      "metadata": {},
      "execution_count": null,
      "outputs": []
    },
    {
      "cell_type": "markdown",
      "source": "### 練習6：交換兩個變數",
      "metadata": {}
    },
    {
      "cell_type": "markdown",
      "source": "* 你的程式應包含\n  * x = input('輸入 x值 ')\n  * y = input('輸入 y值 ')\n  * print('交換後的 x 值： {}'.format(x))\n  * print('交換後的 y 值： {}'.format(y))\n* 輸出：交換後的變數值",
      "metadata": {}
    },
    {
      "cell_type": "code",
      "source": "# 寫下你的程式碼 06\n# x = input('輸入 x值 ')\n# y = input('輸入 y值 ')\n# print('交換後的 x 值： {}'.format(x))\n# print('交換後的 y 值： {}'.format(y))",
      "metadata": {
        "trusted": true
      },
      "execution_count": null,
      "outputs": []
    },
    {
      "cell_type": "markdown",
      "source": "### 練習7：產生隨機亂數",
      "metadata": {}
    },
    {
      "cell_type": "markdown",
      "source": "* 函數：[randint()](https://www.runoob.com/python3/ref-random-randint.html)、[randrange()](https://www.runoob.com/python3/python3-func-number-randrange.html)\n* randint() 返回一個數字 N ，N 為 a 到 b 之間的數字（a <= N <= b），包含 a 和 b。\n* 輸出：1~10 的隨機亂數",
      "metadata": {}
    },
    {
      "cell_type": "code",
      "source": "# 寫下你的程式碼 07",
      "metadata": {
        "trusted": true
      },
      "execution_count": null,
      "outputs": []
    },
    {
      "cell_type": "markdown",
      "source": "### 練習8：公里轉英哩",
      "metadata": {}
    },
    {
      "cell_type": "markdown",
      "source": "* 英哩數 = 公里數 X 0.621371\n* 輸入：\n#### 公里數: 3.5\n* 輸出：數字**小數兩位**\n#### 3.50 公里等於 2.17 英哩\n",
      "metadata": {}
    },
    {
      "cell_type": "code",
      "source": "# 寫下你的程式碼 08",
      "metadata": {},
      "execution_count": null,
      "outputs": []
    },
    {
      "cell_type": "markdown",
      "source": "### 練習9：將攝氏溫度轉換為華氏溫度",
      "metadata": {}
    },
    {
      "cell_type": "markdown",
      "source": "* 輸入：攝氏溫度\n* 輸出：華氏溫度",
      "metadata": {}
    },
    {
      "cell_type": "code",
      "source": "# 寫下你的程式碼 09",
      "metadata": {},
      "execution_count": null,
      "outputs": []
    },
    {
      "cell_type": "markdown",
      "source": "#### 練習10：檢查數字是正數，負數還是零",
      "metadata": {}
    },
    {
      "cell_type": "markdown",
      "source": "* 輸入：一個整數\n* 輸出：\n  1. 如果是正數：**正數**\n  2. 如果是 0：**零**\n  3. 如果是負數：**負數**\n",
      "metadata": {}
    },
    {
      "cell_type": "code",
      "source": "# 寫下你的程式碼 10",
      "metadata": {},
      "execution_count": null,
      "outputs": []
    }
  ]
}